{
  "nbformat": 4,
  "nbformat_minor": 0,
  "metadata": {
    "colab": {
      "provenance": [],
      "authorship_tag": "ABX9TyM+otLF7ZDZcsAFJn6+o6g2",
      "include_colab_link": true
    },
    "kernelspec": {
      "name": "python3",
      "display_name": "Python 3"
    },
    "language_info": {
      "name": "python"
    }
  },
  "cells": [
    {
      "cell_type": "markdown",
      "metadata": {
        "id": "view-in-github",
        "colab_type": "text"
      },
      "source": [
        "<a href=\"https://colab.research.google.com/github/RonnieVip/Cadastro-de-produtos/blob/main/Lista_4.ipynb\" target=\"_parent\"><img src=\"https://colab.research.google.com/assets/colab-badge.svg\" alt=\"Open In Colab\"/></a>"
      ]
    },
    {
      "cell_type": "markdown",
      "source": [
        "1. Faça um Programa que leia um vetor de 5 números inteiros e mostre-os."
      ],
      "metadata": {
        "id": "0ZgB5IbKdCDG"
      }
    },
    {
      "cell_type": "code",
      "execution_count": 27,
      "metadata": {
        "id": "FEme3Uh6ZygW"
      },
      "outputs": [],
      "source": [
        " def lernumeros(qtdenumeros):\n",
        "   numeros = []\n",
        "   for i in range(qtdenumeros):\n",
        "     n = int(input(\"Entre com numero: \"))\n",
        "     numeros.append(n)\n",
        "   return numeros  "
      ]
    },
    {
      "cell_type": "code",
      "source": [
        "def exibir(lista):\n",
        "  for i in lista:\n",
        "    print(i)"
      ],
      "metadata": {
        "id": "F1-r-Qlubwgh"
      },
      "execution_count": 24,
      "outputs": []
    },
    {
      "cell_type": "code",
      "source": [
        "\n",
        "resultado = lernumeros(5)\n",
        "print(resultado)"
      ],
      "metadata": {
        "colab": {
          "base_uri": "https://localhost:8080/"
        },
        "id": "hIGBXhMudnRy",
        "outputId": "f7bdd7c8-07ea-41a5-f2f7-76547f8ab430"
      },
      "execution_count": 29,
      "outputs": [
        {
          "output_type": "stream",
          "name": "stdout",
          "text": [
            "Entre com numero: 1\n",
            "Entre com numero: 2\n",
            "Entre com numero: 3\n",
            "Entre com numero: 4\n",
            "Entre com numero: 5\n",
            "[1, 2, 3, 4, 5]\n"
          ]
        }
      ]
    },
    {
      "cell_type": "markdown",
      "source": [
        "2. Faça um Programa que leia um vetor de 10 números reais e mostre-os na ordem inversa."
      ],
      "metadata": {
        "id": "TIfvQUSjeSlp"
      }
    },
    {
      "cell_type": "code",
      "source": [
        "def lernumeros(qtdenumeros):\n",
        "   numeros = []\n",
        "   for i in range(qtdenumeros):\n",
        "     n = int(input(\"Entre com numero: \"))\n",
        "     numeros.append(n)\n",
        "   return numeros  "
      ],
      "metadata": {
        "id": "p-PPmZI5ee4U"
      },
      "execution_count": 61,
      "outputs": []
    },
    {
      "cell_type": "code",
      "source": [
        "def exibir(lista):\n",
        "  for i in lista:\n",
        "    print(i)"
      ],
      "metadata": {
        "id": "uAEq4ONge324"
      },
      "execution_count": 52,
      "outputs": []
    },
    {
      "cell_type": "code",
      "source": [
        "resultado = lernumeros(10)\n",
        "resultado.reverse()\n",
        "print(resultado)"
      ],
      "metadata": {
        "colab": {
          "base_uri": "https://localhost:8080/"
        },
        "id": "9e_PRvkhhQJ1",
        "outputId": "23c94788-e47e-46a8-ad59-ec1a560a74b6"
      },
      "execution_count": 63,
      "outputs": [
        {
          "output_type": "stream",
          "name": "stdout",
          "text": [
            "Entre com numero: 1\n",
            "Entre com numero: 2\n",
            "Entre com numero: 3\n",
            "Entre com numero: 4\n",
            "Entre com numero: 5\n",
            "Entre com numero: 6\n",
            "Entre com numero: 7\n",
            "Entre com numero: 8\n",
            "Entre com numero: 9\n",
            "Entre com numero: 10\n",
            "[10, 9, 8, 7, 6, 5, 4, 3, 2, 1]\n"
          ]
        }
      ]
    },
    {
      "cell_type": "markdown",
      "source": [
        "3. Faça um Programa que leia 4 notas, mostre as notas e a média na tela."
      ],
      "metadata": {
        "id": "x-nJahOUkqVG"
      }
    },
    {
      "cell_type": "code",
      "source": [
        "def lernotas(qtdenotas):\n",
        "   notas = []\n",
        "   for i in range(qtdenotas):\n",
        "     nota = float(input(\"notas : \"))             \n",
        "     notas.append(nota)\n",
        "   return notas"
      ],
      "metadata": {
        "id": "G5N00_LemCN1"
      },
      "execution_count": 117,
      "outputs": []
    },
    {
      "cell_type": "code",
      "source": [
        "def medias(notas):\n",
        "  soma = 0\n",
        "  for i in notas:\n",
        "    soma += i\n",
        "  media = soma / len(notas)\n",
        "  return media"
      ],
      "metadata": {
        "id": "_w2kTci3yqA_"
      },
      "execution_count": 135,
      "outputs": []
    },
    {
      "cell_type": "code",
      "source": [
        "def exibir(media , notas):\n",
        "  for i in notas:\n",
        "    print(i)\n",
        "  print(media)"
      ],
      "metadata": {
        "id": "EgdBqxgiykIX"
      },
      "execution_count": 136,
      "outputs": []
    },
    {
      "cell_type": "code",
      "source": [
        "notas1 = lernotas(4)\n",
        "media1 = medias(notas1)\n",
        "exibir(media1, notas1)\n"
      ],
      "metadata": {
        "colab": {
          "base_uri": "https://localhost:8080/"
        },
        "id": "G7xlNpZX1i-F",
        "outputId": "387ce4eb-eb05-406c-9fd2-08ce1f320ced"
      },
      "execution_count": 140,
      "outputs": [
        {
          "output_type": "stream",
          "name": "stdout",
          "text": [
            "notas : 5\n",
            "notas : 6\n",
            "notas : 7\n",
            "notas : 8\n",
            "5.0\n",
            "6.0\n",
            "7.0\n",
            "8.0\n",
            "6.5\n"
          ]
        }
      ]
    },
    {
      "cell_type": "markdown",
      "source": [
        "4. Faça um Programa que leia um vetor de 10 caracteres, e diga quantas consoantes foram lidas.\n",
        "Imprima as consoantes."
      ],
      "metadata": {
        "id": "KxUDMH1730N2"
      }
    },
    {
      "cell_type": "code",
      "source": [],
      "metadata": {
        "id": "Faj4T5rL38Ie"
      },
      "execution_count": null,
      "outputs": []
    }
  ]
}